{
 "cells": [
  {
   "cell_type": "markdown",
   "metadata": {},
   "source": [
    "### Here's the start of our Python script. Thanks for completing it for me! - Dr. X\n",
    "### IMPORTANT: install BioPython so that this will work\n",
    "\n",
    "#### Description\n",
    "\n",
    "This python notebook takes input data (`bears_cytb.fasta`, `bears_mass.csv`) and translates the input fasta then calculates molecular weight of the protein produced and the GC content then adds it to the table containing bear mass and species ID. Finally it graphs the mass by species, the GC content by species and the molecular weight by GC content. \n",
    "\n",
    "#### Dependencies\n",
    "\n",
    "To run this notebook you will need these files included in the git repository:\n",
    "\n",
    "`bears_mass.csv`\n",
    "\n",
    "`bears_cytb.fasta`\n",
    "\n",
    "You will also need to download and install the following packages:\n",
    "\n",
    "##### Biopython\n",
    "##### pandas\n",
    "##### matplotlib\n",
    "\n",
    "#### Authors\n",
    "\n",
    "Kaitlin Higgins\n",
    "Dr. X\n",
    "\n",
    "#### Date\n",
    "\n",
    "May 4th 2021\n"
   ]
  },
  {
   "cell_type": "code",
   "execution_count": 1,
   "metadata": {},
   "outputs": [],
   "source": [
    "from Bio import SeqIO\n",
    "from Bio.Data import CodonTable\n",
    "import pandas as pd"
   ]
  },
  {
   "cell_type": "markdown",
   "metadata": {},
   "source": [
    "#%%%%%%%%%%%%%%%#\n",
    "### FUNCTIONS ###\n",
    "#%%%%%%%%%%%%%%%#\n",
    "\n",
    "### 1 ###\n",
    "\n",
    "### Get_sequences_from_file function\n",
    "\n",
    "#### Description\n",
    "\n",
    "The following code takes your fasta file as the argument `fasta_fn` then parses through it to pull out the `species_name` and the associated sequence(`record.seq`) and deposit into a new dictionary `sequence_data_dict` which uses the species names as keys\n",
    "\n",
    "#### Parameters\n",
    "\n",
    "- `fasta_fn` : your fasta file\n",
    "\n",
    "#### Return: \n",
    "extracted sequences with species names as indices\n",
    "\n",
    "#### Example of Usage\n",
    "\n",
    "    > `fasta_seqs = get_sequences_from_file(fasta_fn)`\n",
    "\n",
    "#### Output\n",
    "\"species\" Seq(ATG...)"
   ]
  },
  {
   "cell_type": "code",
   "execution_count": 2,
   "metadata": {},
   "outputs": [],
   "source": [
    "def get_sequences_from_file(fasta_fn): \n",
    "    sequence_data_dict = {} \n",
    "    for record in SeqIO.parse(fasta_fn, \"fasta\"):\n",
    "        description = record.description.split()\n",
    "        species_name = description[1] + \" \" + description[2] \n",
    "        sequence_data_dict[species_name] = record.seq \n",
    "    return(sequence_data_dict)"
   ]
  },
  {
   "cell_type": "markdown",
   "metadata": {},
   "source": [
    "## 2 ##\n",
    "### Translate function\n",
    "\n",
    "#### Description \n",
    "The following code pulls the mitochondrial table from Bio.Data then uses the input `string_nucleotides` to get each group of 3 nucleotides and compare them to the codon table to get the protein code and append each to the end of the string, it then returns the sequence. \n",
    "\n",
    "#### Parameters\n",
    "\n",
    "- `string_nucleotides`: The nucleotide sequences you'd like to translate\n",
    "- `mito_table` : The codon table used for translation\n",
    "\n",
    "#### Return:\n",
    "\n",
    "amino acid sequence\n",
    "\n",
    "#### Example of Usage\n",
    "\n",
    "    > `aa_seq = translate(ATGTCTUGG)`\n",
    "\n",
    "#### Output\n",
    "\n",
    "MSW"
   ]
  },
  {
   "cell_type": "code",
   "execution_count": 3,
   "metadata": {},
   "outputs": [],
   "source": [
    " def translate(string_nucleotides): \n",
    "     mito_table = CodonTable.unambiguous_dna_by_name[\"Vertebrate Mitochondrial\"]\n",
    "     for n in range(0, len(string_nucleotides), 3):\n",
    "            if string_nucleotides[n:n+3] in mito_table:\n",
    "                aa_seq_string += mito_table[string_nucleotides[n:n+3]]\n",
    "            return(aa_seq_string)"
   ]
  },
  {
   "cell_type": "markdown",
   "metadata": {},
   "source": [
    "## 3 ##\n",
    "### Better translate function\n",
    "\n",
    "\n",
    "There is an alternative function to do the above that is included in Bio.Seq (http://biopython.org/DIST/docs/tutorial/Tutorial.pdf), it also gives you easy to use options to allow alternate start codons (`cds=True`), set the codon table (`table=2`) and stop translating when it reaches a stop codon(`to_stop=True`)\n",
    "\n",
    "#### Parameters\n",
    "\n",
    "- `nucleotides`: The nucleotide sequences you'd like to translate\n",
    "- `table` : The codon table used for translation\n",
    "\n",
    "#### Return:\n",
    "\n",
    " amino acid sequence\n",
    "\n",
    "#### Example of Usage\n",
    "\n",
    "    > `aa_seq = better_translate(ATGTCTUGG)`\n",
    "\n",
    "#### Output\n",
    "\n",
    "MSW"
   ]
  },
  {
   "cell_type": "code",
   "execution_count": 4,
   "metadata": {},
   "outputs": [],
   "source": [
    "def better_translate(nucleotides):\n",
    "    aa_seq = nucleotides.translate(table=2, to_stop=True, cds=True)\n",
    "    return(aa_seq)"
   ]
  },
  {
   "cell_type": "markdown",
   "metadata": {},
   "source": [
    "## 4 ##\n",
    "### Compute Molecular Weight Function\n",
    "\n",
    "#### Description\n",
    "This function calculates the molecular weight of proteins found in the translate function. It uses the strings generated in the translate function as input(`aa_seq`) and returns the protein weight(`prot_weight`). Further documentation can be found here: https://biopython.org/wiki/ProtParam \n",
    "\n",
    "The ProteinAnalysis module is required for this so be sure to import from Bio.SeqUtils.ProtParam\n",
    "\n",
    "#### Parameters\n",
    "\n",
    "- `aa_seq`: The amino acid sequence you would like to get the weight for\n",
    "\n",
    "#### Return:\n",
    "\n",
    "protein molecular weight\n",
    "\n",
    "#### Example of Usage\n",
    "\n",
    "        > `mol_weight = compute_molecular_weight(aa_seq)`\n",
    "\n",
    "#### Output\n",
    "\n",
    "molecular weight (ex: 98920.6083)"
   ]
  },
  {
   "cell_type": "code",
   "execution_count": 5,
   "metadata": {},
   "outputs": [],
   "source": [
    "from Bio.SeqUtils.ProtParam import ProteinAnalysis"
   ]
  },
  {
   "cell_type": "code",
   "execution_count": 6,
   "metadata": {},
   "outputs": [],
   "source": [
    " def compute_molecular_weight(aa_seq):\n",
    "        aa_string = str(value) #convert sequences to strings \n",
    "        analyzed_aa = ProteinAnalysis(aa_string)\n",
    "        prot_weight = analyzed_aa.molecular_weight()\n",
    "        return(prot_weight)"
   ]
  },
  {
   "cell_type": "markdown",
   "metadata": {},
   "source": [
    "## 5 ##\n",
    "### getGC function\n",
    "\n",
    "#### Description\n",
    "Biopython has a very useful function to get the GC content of a DNA sequence using the sequence as input, further documentation can be found here: http://biopython.org/DIST/docs/tutorial/Tutorial.pdf\n",
    "\n",
    "You'll want to ensure the GC function is available so be sure to import it from Bio.SeqUtils\n",
    "\n",
    "#### Parameters\n",
    "\n",
    "- `dna_seq` : the sequence you want to analyze for GC content\n",
    "\n",
    "#### Return\n",
    "\n",
    "The GC content as a percentage\n",
    "\n",
    "#### Example of Usage\n",
    "\n",
    "    >`GC_content = getGC(dna_seq)\n",
    "    \n",
    "#### Output\n",
    "\n",
    "GC percentage (ex: 14.51)"
   ]
  },
  {
   "cell_type": "code",
   "execution_count": 11,
   "metadata": {},
   "outputs": [
    {
     "data": {
      "text/html": [
       "<div>\n",
       "<style scoped>\n",
       "    .dataframe tbody tr th:only-of-type {\n",
       "        vertical-align: middle;\n",
       "    }\n",
       "\n",
       "    .dataframe tbody tr th {\n",
       "        vertical-align: top;\n",
       "    }\n",
       "\n",
       "    .dataframe thead th {\n",
       "        text-align: right;\n",
       "    }\n",
       "</style>\n",
       "<table border=\"1\" class=\"dataframe\">\n",
       "  <thead>\n",
       "    <tr style=\"text-align: right;\">\n",
       "      <th></th>\n",
       "      <th>mass</th>\n",
       "    </tr>\n",
       "    <tr>\n",
       "      <th>species</th>\n",
       "      <th></th>\n",
       "    </tr>\n",
       "  </thead>\n",
       "  <tbody>\n",
       "    <tr>\n",
       "      <th>Ursus spelaeus</th>\n",
       "      <td>550.800</td>\n",
       "    </tr>\n",
       "    <tr>\n",
       "      <th>Ursus arctos</th>\n",
       "      <td>203.500</td>\n",
       "    </tr>\n",
       "    <tr>\n",
       "      <th>Ursus thibetanus</th>\n",
       "      <td>99.714</td>\n",
       "    </tr>\n",
       "    <tr>\n",
       "      <th>Melursus ursinus</th>\n",
       "      <td>100.030</td>\n",
       "    </tr>\n",
       "    <tr>\n",
       "      <th>Ursus americanus</th>\n",
       "      <td>110.560</td>\n",
       "    </tr>\n",
       "    <tr>\n",
       "      <th>Helarctos malayanus</th>\n",
       "      <td>47.020</td>\n",
       "    </tr>\n",
       "    <tr>\n",
       "      <th>Ailuropoda melanoleuca</th>\n",
       "      <td>118.200</td>\n",
       "    </tr>\n",
       "    <tr>\n",
       "      <th>Tremarctos ornatus</th>\n",
       "      <td>140.700</td>\n",
       "    </tr>\n",
       "    <tr>\n",
       "      <th>Ursus maritimus</th>\n",
       "      <td>425.100</td>\n",
       "    </tr>\n",
       "  </tbody>\n",
       "</table>\n",
       "</div>"
      ],
      "text/plain": [
       "                           mass\n",
       "species                        \n",
       "Ursus spelaeus          550.800\n",
       "Ursus arctos            203.500\n",
       "Ursus thibetanus         99.714\n",
       "Melursus ursinus        100.030\n",
       "Ursus americanus        110.560\n",
       "Helarctos malayanus      47.020\n",
       "Ailuropoda melanoleuca  118.200\n",
       "Tremarctos ornatus      140.700\n",
       "Ursus maritimus         425.100"
      ]
     },
     "execution_count": 11,
     "metadata": {},
     "output_type": "execute_result"
    }
   ],
   "source": [
    "from Bio.SeqUtils import GC \n",
    "#The following gets out data into the notebook to work with and creates a species list. \n",
    "cytb_seqs = get_sequences_from_file(\"bears_cytb.fasta\") \n",
    "bears_df = pd.read_csv(\"bears_mass.csv\") # Includes only data for body mass \n",
    "species_list = list(bears_df.species)\n",
    "\n",
    "#Set species as index\n",
    "bears_df2 = bears_df.set_index('species')\n",
    "bears_df2"
   ]
  },
  {
   "cell_type": "code",
   "execution_count": 14,
   "metadata": {},
   "outputs": [],
   "source": [
    "def getGC(dna_seq):\n",
    "    GC_cont = GC(dna_seq)\n",
    "    return(GC_cont)"
   ]
  },
  {
   "cell_type": "markdown",
   "metadata": {},
   "source": [
    "## 6 ## \n",
    "\n",
    "The following code creates a new dataframe from the bears_df dataframe and adds two additional columns with NaN as values using the `df.assign` function"
   ]
  },
  {
   "cell_type": "code",
   "execution_count": 12,
   "metadata": {},
   "outputs": [
    {
     "data": {
      "text/html": [
       "<div>\n",
       "<style scoped>\n",
       "    .dataframe tbody tr th:only-of-type {\n",
       "        vertical-align: middle;\n",
       "    }\n",
       "\n",
       "    .dataframe tbody tr th {\n",
       "        vertical-align: top;\n",
       "    }\n",
       "\n",
       "    .dataframe thead th {\n",
       "        text-align: right;\n",
       "    }\n",
       "</style>\n",
       "<table border=\"1\" class=\"dataframe\">\n",
       "  <thead>\n",
       "    <tr style=\"text-align: right;\">\n",
       "      <th></th>\n",
       "      <th>mass</th>\n",
       "      <th>molecular_weight</th>\n",
       "      <th>GC_content</th>\n",
       "    </tr>\n",
       "    <tr>\n",
       "      <th>species</th>\n",
       "      <th></th>\n",
       "      <th></th>\n",
       "      <th></th>\n",
       "    </tr>\n",
       "  </thead>\n",
       "  <tbody>\n",
       "    <tr>\n",
       "      <th>Ursus spelaeus</th>\n",
       "      <td>550.800</td>\n",
       "      <td>NaN</td>\n",
       "      <td>NaN</td>\n",
       "    </tr>\n",
       "    <tr>\n",
       "      <th>Ursus arctos</th>\n",
       "      <td>203.500</td>\n",
       "      <td>NaN</td>\n",
       "      <td>NaN</td>\n",
       "    </tr>\n",
       "    <tr>\n",
       "      <th>Ursus thibetanus</th>\n",
       "      <td>99.714</td>\n",
       "      <td>NaN</td>\n",
       "      <td>NaN</td>\n",
       "    </tr>\n",
       "    <tr>\n",
       "      <th>Melursus ursinus</th>\n",
       "      <td>100.030</td>\n",
       "      <td>NaN</td>\n",
       "      <td>NaN</td>\n",
       "    </tr>\n",
       "    <tr>\n",
       "      <th>Ursus americanus</th>\n",
       "      <td>110.560</td>\n",
       "      <td>NaN</td>\n",
       "      <td>NaN</td>\n",
       "    </tr>\n",
       "    <tr>\n",
       "      <th>Helarctos malayanus</th>\n",
       "      <td>47.020</td>\n",
       "      <td>NaN</td>\n",
       "      <td>NaN</td>\n",
       "    </tr>\n",
       "    <tr>\n",
       "      <th>Ailuropoda melanoleuca</th>\n",
       "      <td>118.200</td>\n",
       "      <td>NaN</td>\n",
       "      <td>NaN</td>\n",
       "    </tr>\n",
       "    <tr>\n",
       "      <th>Tremarctos ornatus</th>\n",
       "      <td>140.700</td>\n",
       "      <td>NaN</td>\n",
       "      <td>NaN</td>\n",
       "    </tr>\n",
       "    <tr>\n",
       "      <th>Ursus maritimus</th>\n",
       "      <td>425.100</td>\n",
       "      <td>NaN</td>\n",
       "      <td>NaN</td>\n",
       "    </tr>\n",
       "  </tbody>\n",
       "</table>\n",
       "</div>"
      ],
      "text/plain": [
       "                           mass molecular_weight GC_content\n",
       "species                                                    \n",
       "Ursus spelaeus          550.800              NaN        NaN\n",
       "Ursus arctos            203.500              NaN        NaN\n",
       "Ursus thibetanus         99.714              NaN        NaN\n",
       "Melursus ursinus        100.030              NaN        NaN\n",
       "Ursus americanus        110.560              NaN        NaN\n",
       "Helarctos malayanus      47.020              NaN        NaN\n",
       "Ailuropoda melanoleuca  118.200              NaN        NaN\n",
       "Tremarctos ornatus      140.700              NaN        NaN\n",
       "Ursus maritimus         425.100              NaN        NaN"
      ]
     },
     "execution_count": 12,
     "metadata": {},
     "output_type": "execute_result"
    }
   ],
   "source": [
    "bears_df2 = bears_df2.assign(molecular_weight = 'NaN', GC_content = 'NaN')\n",
    "bears_df2"
   ]
  },
  {
   "cell_type": "markdown",
   "metadata": {},
   "source": [
    "## 7 ##\n",
    "## Write a for-loop that translates each sequence and also gets molecular weight and computes the GC content\n",
    "## of each translated sequence and adds those data to DataFrame\n",
    "\n",
    "In this step we call in the previously created functions using `dataframe.loc[key, 'column_name'] = function()` to make sure the correct values are imported into the dataframe in the correct locations. We then call the dataframe to visually inspect and make sure there are no obvious errors. "
   ]
  },
  {
   "cell_type": "code",
   "execution_count": 15,
   "metadata": {},
   "outputs": [
    {
     "data": {
      "text/html": [
       "<div>\n",
       "<style scoped>\n",
       "    .dataframe tbody tr th:only-of-type {\n",
       "        vertical-align: middle;\n",
       "    }\n",
       "\n",
       "    .dataframe tbody tr th {\n",
       "        vertical-align: top;\n",
       "    }\n",
       "\n",
       "    .dataframe thead th {\n",
       "        text-align: right;\n",
       "    }\n",
       "</style>\n",
       "<table border=\"1\" class=\"dataframe\">\n",
       "  <thead>\n",
       "    <tr style=\"text-align: right;\">\n",
       "      <th></th>\n",
       "      <th>mass</th>\n",
       "      <th>molecular_weight</th>\n",
       "      <th>GC_content</th>\n",
       "    </tr>\n",
       "    <tr>\n",
       "      <th>species</th>\n",
       "      <th></th>\n",
       "      <th></th>\n",
       "      <th></th>\n",
       "    </tr>\n",
       "  </thead>\n",
       "  <tbody>\n",
       "    <tr>\n",
       "      <th>Ursus spelaeus</th>\n",
       "      <td>550.800</td>\n",
       "      <td>98920.6083</td>\n",
       "      <td>14.248021</td>\n",
       "    </tr>\n",
       "    <tr>\n",
       "      <th>Ursus arctos</th>\n",
       "      <td>203.500</td>\n",
       "      <td>98902.4375</td>\n",
       "      <td>13.984169</td>\n",
       "    </tr>\n",
       "    <tr>\n",
       "      <th>Ursus thibetanus</th>\n",
       "      <td>99.714</td>\n",
       "      <td>98850.9681</td>\n",
       "      <td>14.511873</td>\n",
       "    </tr>\n",
       "    <tr>\n",
       "      <th>Melursus ursinus</th>\n",
       "      <td>100.030</td>\n",
       "      <td>98780.7211</td>\n",
       "      <td>14.511873</td>\n",
       "    </tr>\n",
       "    <tr>\n",
       "      <th>Ursus americanus</th>\n",
       "      <td>110.560</td>\n",
       "      <td>98906.5155</td>\n",
       "      <td>14.511873</td>\n",
       "    </tr>\n",
       "    <tr>\n",
       "      <th>Helarctos malayanus</th>\n",
       "      <td>47.020</td>\n",
       "      <td>98868.5799</td>\n",
       "      <td>14.511873</td>\n",
       "    </tr>\n",
       "    <tr>\n",
       "      <th>Ailuropoda melanoleuca</th>\n",
       "      <td>118.200</td>\n",
       "      <td>98710.9023</td>\n",
       "      <td>14.511873</td>\n",
       "    </tr>\n",
       "    <tr>\n",
       "      <th>Tremarctos ornatus</th>\n",
       "      <td>140.700</td>\n",
       "      <td>98649.9109</td>\n",
       "      <td>14.775726</td>\n",
       "    </tr>\n",
       "    <tr>\n",
       "      <th>Ursus maritimus</th>\n",
       "      <td>425.100</td>\n",
       "      <td>98804.3175</td>\n",
       "      <td>14.248021</td>\n",
       "    </tr>\n",
       "  </tbody>\n",
       "</table>\n",
       "</div>"
      ],
      "text/plain": [
       "                           mass molecular_weight GC_content\n",
       "species                                                    \n",
       "Ursus spelaeus          550.800       98920.6083  14.248021\n",
       "Ursus arctos            203.500       98902.4375  13.984169\n",
       "Ursus thibetanus         99.714       98850.9681  14.511873\n",
       "Melursus ursinus        100.030       98780.7211  14.511873\n",
       "Ursus americanus        110.560       98906.5155  14.511873\n",
       "Helarctos malayanus      47.020       98868.5799  14.511873\n",
       "Ailuropoda melanoleuca  118.200       98710.9023  14.511873\n",
       "Tremarctos ornatus      140.700       98649.9109  14.775726\n",
       "Ursus maritimus         425.100       98804.3175  14.248021"
      ]
     },
     "execution_count": 15,
     "metadata": {},
     "output_type": "execute_result"
    }
   ],
   "source": [
    "for key, value in cytb_seqs.items():\n",
    "        aa_seq = better_translate(value)\n",
    "        bears_df2.loc[key, 'molecular_weight'] = compute_molecular_weight(aa_seq)\n",
    "        bears_df2.loc[key, 'GC_content'] = getGC(aa_seq)\n",
    "bears_df2"
   ]
  },
  {
   "cell_type": "markdown",
   "metadata": {},
   "source": [
    "## 8 ##\n",
    "## Plot a bar-chart of the mass with the x-axes labeled with species names.\n",
    "## *Q1* What is the largest bear species? \n",
    "    \n",
    "        The Largest Species is Ursus Spelaeus\n",
    "## *Q2* What else is interesting about this species?\n",
    "    \n",
    "        The GC content is is lower than the lowest mass species"
   ]
  },
  {
   "cell_type": "markdown",
   "metadata": {},
   "source": [
    "For this part of the code we first need to reset the indices so that species is a plottable column again. We do this using \n",
    "\n",
    "`df=df.reset_index()`\n",
    "\n",
    "We then import matplotlib as well as its colormaps and set the variable color equal to a color map and specify the number of bins using:\n",
    "\n",
    "`color = cm.inferno_r(np.linspace(.4,.8,10))`\n",
    "\n",
    "The color step is unnecessary for getting the data plotted but does make it look more appealing\n",
    "\n",
    "Finally we plot this data using \n",
    "\n",
    "`df.plot(kind='bar', x= 'species, y='mass', legend=False, color=color)`\n",
    "\n",
    "In that code we are specifying which columns to use for the x and y axis, and telling it we don't need a legend so that the colors will be different from bar to bar. \n",
    "\n",
    "More details on visualization can be found here:\n",
    "https://pandas.pydata.org/pandas-docs/stable/user_guide/visualization.html"
   ]
  },
  {
   "cell_type": "code",
   "execution_count": null,
   "metadata": {},
   "outputs": [],
   "source": [
    "bears_df2 = bears_df2.reset_index()"
   ]
  },
  {
   "cell_type": "code",
   "execution_count": 46,
   "metadata": {},
   "outputs": [],
   "source": [
    "import matplotlib as plt\n",
    "from matplotlib import cm \n",
    "color = cm.inferno_r(np.linspace(.4,.8,10))\n",
    "%matplotlib inline"
   ]
  },
  {
   "cell_type": "code",
   "execution_count": 49,
   "metadata": {},
   "outputs": [
    {
     "data": {
      "text/plain": [
       "<matplotlib.axes._subplots.AxesSubplot at 0x17831886dc8>"
      ]
     },
     "execution_count": 49,
     "metadata": {},
     "output_type": "execute_result"
    },
    {
     "data": {
      "image/png": "[encoded data removed]",
      "text/plain": [
       "<Figure size 432x288 with 1 Axes>"
      ]
     },
     "metadata": {
      "needs_background": "light"
     },
     "output_type": "display_data"
    }
   ],
   "source": [
    "bears_df2.plot(kind= 'bar',x= 'species' , y= 'mass', legend=False, color= color)"
   ]
  },
  {
   "cell_type": "markdown",
   "metadata": {},
   "source": [
    "## 9 ##\n",
    "## Plot a visualization of the molecular weight (y-axis) as a function of GC-content (x-axis)."
   ]
  },
  {
   "cell_type": "code",
   "execution_count": 55,
   "metadata": {},
   "outputs": [
    {
     "data": {
      "text/plain": [
       "<matplotlib.axes._subplots.AxesSubplot at 0x17834133108>"
      ]
     },
     "execution_count": 55,
     "metadata": {},
     "output_type": "execute_result"
    },
    {
     "data": {
      "image/png": "[encoded data removed]",
      "text/plain": [
       "<Figure size 432x288 with 1 Axes>"
      ]
     },
     "metadata": {
      "needs_background": "light"
     },
     "output_type": "display_data"
    }
   ],
   "source": [
    "bears_df2.plot(kind= 'bar',x= 'GC_content' , y= 'molecular_weight', legend=False, color= color)\n"
   ]
  },
  {
   "cell_type": "markdown",
   "metadata": {},
   "source": [
    "## 10 ##\n",
    "## Save the new DataFrame to a file called \"bears_mass_cytb.csv\""
   ]
  },
  {
   "cell_type": "code",
   "execution_count": 56,
   "metadata": {},
   "outputs": [],
   "source": [
    "bears_df2.to_csv('bears_mass_cytb.csv')"
   ]
  },
  {
   "cell_type": "markdown",
   "metadata": {},
   "source": [
    "## 11 - BONUS ##\n",
    "## What else can we do with this dataset in Python? \n",
    "## Add functions or anything that might be interesting and fun. (optional)"
   ]
  },
  {
   "cell_type": "code",
   "execution_count": 57,
   "metadata": {},
   "outputs": [
    {
     "data": {
      "text/plain": [
       "<matplotlib.axes._subplots.AxesSubplot at 0x17834198bc8>"
      ]
     },
     "execution_count": 57,
     "metadata": {},
     "output_type": "execute_result"
    },
    {
     "data": {
      "image/png": "[encoded data removed]",
      "text/plain": [
       "<Figure size 432x288 with 1 Axes>"
      ]
     },
     "metadata": {
      "needs_background": "light"
     },
     "output_type": "display_data"
    }
   ],
   "source": [
    "bears_df2.plot(kind= 'bar',x= 'species' , y= 'GC_content', legend=False, color= color)"
   ]
  }
 ],
 "metadata": {
  "kernelspec": {
   "display_name": "Python 3",
   "language": "python",
   "name": "python3"
  },
  "language_info": {
   "codemirror_mode": {
    "name": "ipython",
    "version": 3
   },
   "file_extension": ".py",
   "mimetype": "text/x-python",
   "name": "python",
   "nbconvert_exporter": "python",
   "pygments_lexer": "ipython3",
   "version": "3.7.4"
  }
 },
 "nbformat": 4,
 "nbformat_minor": 4
}
